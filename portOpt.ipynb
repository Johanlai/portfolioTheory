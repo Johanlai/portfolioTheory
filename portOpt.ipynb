{
 "cells": [
  {
   "cell_type": "code",
   "execution_count": 69,
   "id": "37eda5d0",
   "metadata": {},
   "outputs": [],
   "source": [
    "import portfolioTheory as pt\n",
    "import yftickers as ticks\n",
    "import datetime as dt\n",
    "import matplotlib.pyplot as plt\n",
    "import plotly.express as px\n",
    "import plotly.graph_objs as go"
   ]
  },
  {
   "cell_type": "code",
   "execution_count": 6,
   "id": "d26e5a64",
   "metadata": {},
   "outputs": [],
   "source": [
    "tickers = ticks.ftse100\n",
    "start=dt.datetime(2000,1,1)\n",
    "end=dt.datetime(2023,1,1)\n",
    "threshold=0.9"
   ]
  },
  {
   "cell_type": "code",
   "execution_count": 23,
   "id": "a516c6bd",
   "metadata": {},
   "outputs": [
    {
     "name": "stdout",
     "output_type": "stream",
     "text": [
      "[*********************100%***********************]  101 of 101 completed\n",
      "\n",
      "3 Failed downloads:\n",
      "- MGGT.L: No timezone found, symbol may be delisted\n",
      "- RMG.L: No timezone found, symbol may be delisted\n",
      "- AUTO: No timezone found, symbol may be delisted\n",
      "33 columns were removed because there were less observations than the threshold (0.9):\n",
      "AAL       73.20%\n",
      "ABDN.L    70.15%\n",
      "AHT       82.06%\n",
      "AUTO       0.00%\n",
      "BME       75.34%\n",
      "BRBY.L    87.60%\n",
      "CCH.L     41.20%\n",
      "CPG       81.42%\n",
      "EDV       63.31%\n",
      "ENT.L     76.87%\n",
      "EXPN.L    69.06%\n",
      "FLTR      49.55%\n",
      "FRES.L    62.34%\n",
      "GLEN.L    49.39%\n",
      "HIK.L     73.07%\n",
      "HL.L      66.55%\n",
      "IAG       82.57%\n",
      "IHG       83.66%\n",
      "III       67.39%\n",
      "INVR.L    61.61%\n",
      "ITRK.L    88.18%\n",
      "LAND      42.11%\n",
      "MGGT.L     0.00%\n",
      "MNDI.L    66.01%\n",
      "NWG       64.48%\n",
      "OCDO.L    52.96%\n",
      "PHNX.L    55.82%\n",
      "PRU       89.25%\n",
      "RMG.L      0.00%\n",
      "RMV.L     71.53%\n",
      "SKG.L     67.24%\n",
      "SMIN      46.18%\n",
      "UTG       79.96%\n",
      "dtype: object\n"
     ]
    }
   ],
   "source": [
    "portfolio = pt.Portfolio(tickers, start, end)\n",
    "portfolio.getData()\n",
    "portfolio.cleanData(dateRange=['2002','2023'], threshold=threshold)\n",
    "portfolio.calculate_stats()"
   ]
  },
  {
   "cell_type": "code",
   "execution_count": 25,
   "id": "7923cf78",
   "metadata": {},
   "outputs": [],
   "source": [
    "meanReturns = portfolio.logReturns.mean()\n",
    "covMatrix = portfolio.covMatrix"
   ]
  },
  {
   "cell_type": "code",
   "execution_count": 26,
   "id": "0206b099",
   "metadata": {},
   "outputs": [],
   "source": [
    "maxSR = pt.maxSharpeRatio(meanReturns, covMatrix)"
   ]
  },
  {
   "cell_type": "markdown",
   "id": "a1e3906f",
   "metadata": {},
   "source": [
    "# EDA"
   ]
  },
  {
   "cell_type": "code",
   "execution_count": 38,
   "id": "72414658",
   "metadata": {},
   "outputs": [
    {
     "name": "stdout",
     "output_type": "stream",
     "text": [
      "21 years and 236.952 average days\n"
     ]
    }
   ],
   "source": [
    "print('{} years and {} average days'.format(len(portfolio.logReturns.groupby(portfolio.logReturns.index.year)),round(len(portfolio.logReturns)/len(portfolio.logReturns.groupby(portfolio.logReturns.index.year)),3)))"
   ]
  },
  {
   "cell_type": "code",
   "execution_count": 58,
   "id": "19728563",
   "metadata": {},
   "outputs": [
    {
     "data": {
      "image/png": "[encoded data removed]",
      "text/plain": [
       "<Figure size 1600x200 with 1 Axes>"
      ]
     },
     "metadata": {},
     "output_type": "display_data"
    }
   ],
   "source": [
    "avDays = portfolio.logReturns.groupby(portfolio.logReturns.index.year).count().mean(axis=1)\n",
    "fig = plt.figure(figsize=(16,2))\n",
    "plt.bar(avDays.index,avDays.values)\n",
    "plt.xticks(avDays.index)\n",
    "plt.margins(x=0.01)\n",
    "plt.grid()\n",
    "plt.show()"
   ]
  },
  {
   "cell_type": "code",
   "execution_count": 61,
   "id": "7f82100c",
   "metadata": {},
   "outputs": [
    {
     "data": {
      "text/plain": [
       "Date\n",
       "2002    243.0\n",
       "2003    243.0\n",
       "2004    242.0\n",
       "2005    244.0\n",
       "2006    238.0\n",
       "2007    237.0\n",
       "2008    240.0\n",
       "2009    239.0\n",
       "2010    238.0\n",
       "2011    237.0\n",
       "2012    233.0\n",
       "2013    239.0\n",
       "2014    239.0\n",
       "2015    239.0\n",
       "2016    239.0\n",
       "2017    238.0\n",
       "2018    237.0\n",
       "2019    239.0\n",
       "2020    240.0\n",
       "2021    220.0\n",
       "2022    212.0\n",
       "dtype: float64"
      ]
     },
     "execution_count": 61,
     "metadata": {},
     "output_type": "execute_result"
    }
   ],
   "source": [
    "avDays"
   ]
  },
  {
   "cell_type": "code",
   "execution_count": 71,
   "id": "3481392e",
   "metadata": {},
   "outputs": [
    {
     "data": {
      "application/vnd.plotly.v1+json": {
       "config": {
        "plotlyServerURL": "https://plot.ly"
       },
       "data": [
        {
         "alignmentgroup": "True",
         "hovertemplate": "x=%{x}<br>y=%{y}<extra></extra>",
         "legendgroup": "",
         "marker": {
          "color": "#636efa",
          "pattern": {
           "shape": ""
          }
         },
         "name": "",
         "offsetgroup": "",
         "orientation": "v",
         "showlegend": false,
         "textposition": "auto",
         "type": "bar",
         "x": [
          2002,
          2003,
          2004,
          2005,
          2006,
          2007,
          2008,
          2009,
          2010,
          2011,
          2012,
          2013,
          2014,
          2015,
          2016,
          2017,
          2018,
          2019,
          2020,
          2021,
          2022
         ],
         "xaxis": "x",
         "y": [
          243,
          243,
          242,
          244,
          238,
          237,
          240,
          239,
          238,
          237,
          233,
          239,
          239,
          239,
          239,
          238,
          237,
          239,
          240,
          220,
          212
         ],
         "yaxis": "y"
        }
       ],
       "layout": {
        "barmode": "relative",
        "height": 300,
        "legend": {
         "tracegroupgap": 0
        },
        "margin": {
         "t": 60
        },
        "template": {
         "data": {
          "bar": [
           {
            "error_x": {
             "color": "#2a3f5f"
            },
            "error_y": {
             "color": "#2a3f5f"
            },
            "marker": {
             "line": {
              "color": "#E5ECF6",
              "width": 0.5
             },
             "pattern": {
              "fillmode": "overlay",
              "size": 10,
              "solidity": 0.2
             }
            },
            "type": "bar"
           }
          ],
          "barpolar": [
           {
            "marker": {
             "line": {
              "color": "#E5ECF6",
              "width": 0.5
             },
             "pattern": {
              "fillmode": "overlay",
              "size": 10,
              "solidity": 0.2
             }
            },
            "type": "barpolar"
           }
          ],
          "carpet": [
           {
            "aaxis": {
             "endlinecolor": "#2a3f5f",
             "gridcolor": "white",
             "linecolor": "white",
             "minorgridcolor": "white",
             "startlinecolor": "#2a3f5f"
            },
            "baxis": {
             "endlinecolor": "#2a3f5f",
             "gridcolor": "white",
             "linecolor": "white",
             "minorgridcolor": "white",
             "startlinecolor": "#2a3f5f"
            },
            "type": "carpet"
           }
          ],
          "choropleth": [
           {
            "colorbar": {
             "outlinewidth": 0,
             "ticks": ""
            },
            "type": "choropleth"
           }
          ],
          "contour": [
           {
            "colorbar": {
             "outlinewidth": 0,
             "ticks": ""
            },
            "colorscale": [
             [
              0,
              "#0d0887"
             ],
             [
              0.1111111111111111,
              "#46039f"
             ],
             [
              0.2222222222222222,
              "#7201a8"
             ],
             [
              0.3333333333333333,
              "#9c179e"
             ],
             [
              0.4444444444444444,
              "#bd3786"
             ],
             [
              0.5555555555555556,
              "#d8576b"
             ],
             [
              0.6666666666666666,
              "#ed7953"
             ],
             [
              0.7777777777777778,
              "#fb9f3a"
             ],
             [
              0.8888888888888888,
              "#fdca26"
             ],
             [
              1,
              "#f0f921"
             ]
            ],
            "type": "contour"
           }
          ],
          "contourcarpet": [
           {
            "colorbar": {
             "outlinewidth": 0,
             "ticks": ""
            },
            "type": "contourcarpet"
           }
          ],
          "heatmap": [
           {
            "colorbar": {
             "outlinewidth": 0,
             "ticks": ""
            },
            "colorscale": [
             [
              0,
              "#0d0887"
             ],
             [
              0.1111111111111111,
              "#46039f"
             ],
             [
              0.2222222222222222,
              "#7201a8"
             ],
             [
              0.3333333333333333,
              "#9c179e"
             ],
             [
              0.4444444444444444,
              "#bd3786"
             ],
             [
              0.5555555555555556,
              "#d8576b"
             ],
             [
              0.6666666666666666,
              "#ed7953"
             ],
             [
              0.7777777777777778,
              "#fb9f3a"
             ],
             [
              0.8888888888888888,
              "#fdca26"
             ],
             [
              1,
              "#f0f921"
             ]
            ],
            "type": "heatmap"
           }
          ],
          "heatmapgl": [
           {
            "colorbar": {
             "outlinewidth": 0,
             "ticks": ""
            },
            "colorscale": [
             [
              0,
              "#0d0887"
             ],
             [
              0.1111111111111111,
              "#46039f"
             ],
             [
              0.2222222222222222,
              "#7201a8"
             ],
             [
              0.3333333333333333,
              "#9c179e"
             ],
             [
              0.4444444444444444,
              "#bd3786"
             ],
             [
              0.5555555555555556,
              "#d8576b"
             ],
             [
              0.6666666666666666,
              "#ed7953"
             ],
             [
              0.7777777777777778,
              "#fb9f3a"
             ],
             [
              0.8888888888888888,
              "#fdca26"
             ],
             [
              1,
              "#f0f921"
             ]
            ],
            "type": "heatmapgl"
           }
          ],
          "histogram": [
           {
            "marker": {
             "pattern": {
              "fillmode": "overlay",
              "size": 10,
              "solidity": 0.2
             }
            },
            "type": "histogram"
           }
          ],
          "histogram2d": [
           {
            "colorbar": {
             "outlinewidth": 0,
             "ticks": ""
            },
            "colorscale": [
             [
              0,
              "#0d0887"
             ],
             [
              0.1111111111111111,
              "#46039f"
             ],
             [
              0.2222222222222222,
              "#7201a8"
             ],
             [
              0.3333333333333333,
              "#9c179e"
             ],
             [
              0.4444444444444444,
              "#bd3786"
             ],
             [
              0.5555555555555556,
              "#d8576b"
             ],
             [
              0.6666666666666666,
              "#ed7953"
             ],
             [
              0.7777777777777778,
              "#fb9f3a"
             ],
             [
              0.8888888888888888,
              "#fdca26"
             ],
             [
              1,
              "#f0f921"
             ]
            ],
            "type": "histogram2d"
           }
          ],
          "histogram2dcontour": [
           {
            "colorbar": {
             "outlinewidth": 0,
             "ticks": ""
            },
            "colorscale": [
             [
              0,
              "#0d0887"
             ],
             [
              0.1111111111111111,
              "#46039f"
             ],
             [
              0.2222222222222222,
              "#7201a8"
             ],
             [
              0.3333333333333333,
              "#9c179e"
             ],
             [
              0.4444444444444444,
              "#bd3786"
             ],
             [
              0.5555555555555556,
              "#d8576b"
             ],
             [
              0.6666666666666666,
              "#ed7953"
             ],
             [
              0.7777777777777778,
              "#fb9f3a"
             ],
             [
              0.8888888888888888,
              "#fdca26"
             ],
             [
              1,
              "#f0f921"
             ]
            ],
            "type": "histogram2dcontour"
           }
          ],
          "mesh3d": [
           {
            "colorbar": {
             "outlinewidth": 0,
             "ticks": ""
            },
            "type": "mesh3d"
           }
          ],
          "parcoords": [
           {
            "line": {
             "colorbar": {
              "outlinewidth": 0,
              "ticks": ""
             }
            },
            "type": "parcoords"
           }
          ],
          "pie": [
           {
            "automargin": true,
            "type": "pie"
           }
          ],
          "scatter": [
           {
            "fillpattern": {
             "fillmode": "overlay",
             "size": 10,
             "solidity": 0.2
            },
            "type": "scatter"
           }
          ],
          "scatter3d": [
           {
            "line": {
             "colorbar": {
              "outlinewidth": 0,
              "ticks": ""
             }
            },
            "marker": {
             "colorbar": {
              "outlinewidth": 0,
              "ticks": ""
             }
            },
            "type": "scatter3d"
           }
          ],
          "scattercarpet": [
           {
            "marker": {
             "colorbar": {
              "outlinewidth": 0,
              "ticks": ""
             }
            },
            "type": "scattercarpet"
           }
          ],
          "scattergeo": [
           {
            "marker": {
             "colorbar": {
              "outlinewidth": 0,
              "ticks": ""
             }
            },
            "type": "scattergeo"
           }
          ],
          "scattergl": [
           {
            "marker": {
             "colorbar": {
              "outlinewidth": 0,
              "ticks": ""
             }
            },
            "type": "scattergl"
           }
          ],
          "scattermapbox": [
           {
            "marker": {
             "colorbar": {
              "outlinewidth": 0,
              "ticks": ""
             }
            },
            "type": "scattermapbox"
           }
          ],
          "scatterpolar": [
           {
            "marker": {
             "colorbar": {
              "outlinewidth": 0,
              "ticks": ""
             }
            },
            "type": "scatterpolar"
           }
          ],
          "scatterpolargl": [
           {
            "marker": {
             "colorbar": {
              "outlinewidth": 0,
              "ticks": ""
             }
            },
            "type": "scatterpolargl"
           }
          ],
          "scatterternary": [
           {
            "marker": {
             "colorbar": {
              "outlinewidth": 0,
              "ticks": ""
             }
            },
            "type": "scatterternary"
           }
          ],
          "surface": [
           {
            "colorbar": {
             "outlinewidth": 0,
             "ticks": ""
            },
            "colorscale": [
             [
              0,
              "#0d0887"
             ],
             [
              0.1111111111111111,
              "#46039f"
             ],
             [
              0.2222222222222222,
              "#7201a8"
             ],
             [
              0.3333333333333333,
              "#9c179e"
             ],
             [
              0.4444444444444444,
              "#bd3786"
             ],
             [
              0.5555555555555556,
              "#d8576b"
             ],
             [
              0.6666666666666666,
              "#ed7953"
             ],
             [
              0.7777777777777778,
              "#fb9f3a"
             ],
             [
              0.8888888888888888,
              "#fdca26"
             ],
             [
              1,
              "#f0f921"
             ]
            ],
            "type": "surface"
           }
          ],
          "table": [
           {
            "cells": {
             "fill": {
              "color": "#EBF0F8"
             },
             "line": {
              "color": "white"
             }
            },
            "header": {
             "fill": {
              "color": "#C8D4E3"
             },
             "line": {
              "color": "white"
             }
            },
            "type": "table"
           }
          ]
         },
         "layout": {
          "annotationdefaults": {
           "arrowcolor": "#2a3f5f",
           "arrowhead": 0,
           "arrowwidth": 1
          },
          "autotypenumbers": "strict",
          "coloraxis": {
           "colorbar": {
            "outlinewidth": 0,
            "ticks": ""
           }
          },
          "colorscale": {
           "diverging": [
            [
             0,
             "#8e0152"
            ],
            [
             0.1,
             "#c51b7d"
            ],
            [
             0.2,
             "#de77ae"
            ],
            [
             0.3,
             "#f1b6da"
            ],
            [
             0.4,
             "#fde0ef"
            ],
            [
             0.5,
             "#f7f7f7"
            ],
            [
             0.6,
             "#e6f5d0"
            ],
            [
             0.7,
             "#b8e186"
            ],
            [
             0.8,
             "#7fbc41"
            ],
            [
             0.9,
             "#4d9221"
            ],
            [
             1,
             "#276419"
            ]
           ],
           "sequential": [
            [
             0,
             "#0d0887"
            ],
            [
             0.1111111111111111,
             "#46039f"
            ],
            [
             0.2222222222222222,
             "#7201a8"
            ],
            [
             0.3333333333333333,
             "#9c179e"
            ],
            [
             0.4444444444444444,
             "#bd3786"
            ],
            [
             0.5555555555555556,
             "#d8576b"
            ],
            [
             0.6666666666666666,
             "#ed7953"
            ],
            [
             0.7777777777777778,
             "#fb9f3a"
            ],
            [
             0.8888888888888888,
             "#fdca26"
            ],
            [
             1,
             "#f0f921"
            ]
           ],
           "sequentialminus": [
            [
             0,
             "#0d0887"
            ],
            [
             0.1111111111111111,
             "#46039f"
            ],
            [
             0.2222222222222222,
             "#7201a8"
            ],
            [
             0.3333333333333333,
             "#9c179e"
            ],
            [
             0.4444444444444444,
             "#bd3786"
            ],
            [
             0.5555555555555556,
             "#d8576b"
            ],
            [
             0.6666666666666666,
             "#ed7953"
            ],
            [
             0.7777777777777778,
             "#fb9f3a"
            ],
            [
             0.8888888888888888,
             "#fdca26"
            ],
            [
             1,
             "#f0f921"
            ]
           ]
          },
          "colorway": [
           "#636efa",
           "#EF553B",
           "#00cc96",
           "#ab63fa",
           "#FFA15A",
           "#19d3f3",
           "#FF6692",
           "#B6E880",
           "#FF97FF",
           "#FECB52"
          ],
          "font": {
           "color": "#2a3f5f"
          },
          "geo": {
           "bgcolor": "white",
           "lakecolor": "white",
           "landcolor": "#E5ECF6",
           "showlakes": true,
           "showland": true,
           "subunitcolor": "white"
          },
          "hoverlabel": {
           "align": "left"
          },
          "hovermode": "closest",
          "mapbox": {
           "style": "light"
          },
          "paper_bgcolor": "white",
          "plot_bgcolor": "#E5ECF6",
          "polar": {
           "angularaxis": {
            "gridcolor": "white",
            "linecolor": "white",
            "ticks": ""
           },
           "bgcolor": "#E5ECF6",
           "radialaxis": {
            "gridcolor": "white",
            "linecolor": "white",
            "ticks": ""
           }
          },
          "scene": {
           "xaxis": {
            "backgroundcolor": "#E5ECF6",
            "gridcolor": "white",
            "gridwidth": 2,
            "linecolor": "white",
            "showbackground": true,
            "ticks": "",
            "zerolinecolor": "white"
           },
           "yaxis": {
            "backgroundcolor": "#E5ECF6",
            "gridcolor": "white",
            "gridwidth": 2,
            "linecolor": "white",
            "showbackground": true,
            "ticks": "",
            "zerolinecolor": "white"
           },
           "zaxis": {
            "backgroundcolor": "#E5ECF6",
            "gridcolor": "white",
            "gridwidth": 2,
            "linecolor": "white",
            "showbackground": true,
            "ticks": "",
            "zerolinecolor": "white"
           }
          },
          "shapedefaults": {
           "line": {
            "color": "#2a3f5f"
           }
          },
          "ternary": {
           "aaxis": {
            "gridcolor": "white",
            "linecolor": "white",
            "ticks": ""
           },
           "baxis": {
            "gridcolor": "white",
            "linecolor": "white",
            "ticks": ""
           },
           "bgcolor": "#E5ECF6",
           "caxis": {
            "gridcolor": "white",
            "linecolor": "white",
            "ticks": ""
           }
          },
          "title": {
           "x": 0.05
          },
          "xaxis": {
           "automargin": true,
           "gridcolor": "white",
           "linecolor": "white",
           "ticks": "",
           "title": {
            "standoff": 15
           },
           "zerolinecolor": "white",
           "zerolinewidth": 2
          },
          "yaxis": {
           "automargin": true,
           "gridcolor": "white",
           "linecolor": "white",
           "ticks": "",
           "title": {
            "standoff": 15
           },
           "zerolinecolor": "white",
           "zerolinewidth": 2
          }
         }
        },
        "xaxis": {
         "anchor": "y",
         "domain": [
          0,
          1
         ],
         "title": {
          "text": "x"
         }
        },
        "yaxis": {
         "anchor": "x",
         "domain": [
          0,
          1
         ],
         "title": {
          "text": "y"
         }
        }
       }
      },
      "text/html": [
       "<div>                            <div id=\"81e7dc93-da39-4147-9d2c-ea58e0d62263\" class=\"plotly-graph-div\" style=\"height:300px; width:100%;\"></div>            <script type=\"text/javascript\">                require([\"plotly\"], function(Plotly) {                    window.PLOTLYENV=window.PLOTLYENV || {};                                    if (document.getElementById(\"81e7dc93-da39-4147-9d2c-ea58e0d62263\")) {                    Plotly.newPlot(                        \"81e7dc93-da39-4147-9d2c-ea58e0d62263\",                        [{\"alignmentgroup\":\"True\",\"hovertemplate\":\"x=%{x}<br>y=%{y}<extra></extra>\",\"legendgroup\":\"\",\"marker\":{\"color\":\"#636efa\",\"pattern\":{\"shape\":\"\"}},\"name\":\"\",\"offsetgroup\":\"\",\"orientation\":\"v\",\"showlegend\":false,\"textposition\":\"auto\",\"x\":[2002,2003,2004,2005,2006,2007,2008,2009,2010,2011,2012,2013,2014,2015,2016,2017,2018,2019,2020,2021,2022],\"xaxis\":\"x\",\"y\":[243.0,243.0,242.0,244.0,238.0,237.0,240.0,239.0,238.0,237.0,233.0,239.0,239.0,239.0,239.0,238.0,237.0,239.0,240.0,220.0,212.0],\"yaxis\":\"y\",\"type\":\"bar\"}],                        {\"template\":{\"data\":{\"histogram2dcontour\":[{\"type\":\"histogram2dcontour\",\"colorbar\":{\"outlinewidth\":0,\"ticks\":\"\"},\"colorscale\":[[0.0,\"#0d0887\"],[0.1111111111111111,\"#46039f\"],[0.2222222222222222,\"#7201a8\"],[0.3333333333333333,\"#9c179e\"],[0.4444444444444444,\"#bd3786\"],[0.5555555555555556,\"#d8576b\"],[0.6666666666666666,\"#ed7953\"],[0.7777777777777778,\"#fb9f3a\"],[0.8888888888888888,\"#fdca26\"],[1.0,\"#f0f921\"]]}],\"choropleth\":[{\"type\":\"choropleth\",\"colorbar\":{\"outlinewidth\":0,\"ticks\":\"\"}}],\"histogram2d\":[{\"type\":\"histogram2d\",\"colorbar\":{\"outlinewidth\":0,\"ticks\":\"\"},\"colorscale\":[[0.0,\"#0d0887\"],[0.1111111111111111,\"#46039f\"],[0.2222222222222222,\"#7201a8\"],[0.3333333333333333,\"#9c179e\"],[0.4444444444444444,\"#bd3786\"],[0.5555555555555556,\"#d8576b\"],[0.6666666666666666,\"#ed7953\"],[0.7777777777777778,\"#fb9f3a\"],[0.8888888888888888,\"#fdca26\"],[1.0,\"#f0f921\"]]}],\"heatmap\":[{\"type\":\"heatmap\",\"colorbar\":{\"outlinewidth\":0,\"ticks\":\"\"},\"colorscale\":[[0.0,\"#0d0887\"],[0.1111111111111111,\"#46039f\"],[0.2222222222222222,\"#7201a8\"],[0.3333333333333333,\"#9c179e\"],[0.4444444444444444,\"#bd3786\"],[0.5555555555555556,\"#d8576b\"],[0.6666666666666666,\"#ed7953\"],[0.7777777777777778,\"#fb9f3a\"],[0.8888888888888888,\"#fdca26\"],[1.0,\"#f0f921\"]]}],\"heatmapgl\":[{\"type\":\"heatmapgl\",\"colorbar\":{\"outlinewidth\":0,\"ticks\":\"\"},\"colorscale\":[[0.0,\"#0d0887\"],[0.1111111111111111,\"#46039f\"],[0.2222222222222222,\"#7201a8\"],[0.3333333333333333,\"#9c179e\"],[0.4444444444444444,\"#bd3786\"],[0.5555555555555556,\"#d8576b\"],[0.6666666666666666,\"#ed7953\"],[0.7777777777777778,\"#fb9f3a\"],[0.8888888888888888,\"#fdca26\"],[1.0,\"#f0f921\"]]}],\"contourcarpet\":[{\"type\":\"contourcarpet\",\"colorbar\":{\"outlinewidth\":0,\"ticks\":\"\"}}],\"contour\":[{\"type\":\"contour\",\"colorbar\":{\"outlinewidth\":0,\"ticks\":\"\"},\"colorscale\":[[0.0,\"#0d0887\"],[0.1111111111111111,\"#46039f\"],[0.2222222222222222,\"#7201a8\"],[0.3333333333333333,\"#9c179e\"],[0.4444444444444444,\"#bd3786\"],[0.5555555555555556,\"#d8576b\"],[0.6666666666666666,\"#ed7953\"],[0.7777777777777778,\"#fb9f3a\"],[0.8888888888888888,\"#fdca26\"],[1.0,\"#f0f921\"]]}],\"surface\":[{\"type\":\"surface\",\"colorbar\":{\"outlinewidth\":0,\"ticks\":\"\"},\"colorscale\":[[0.0,\"#0d0887\"],[0.1111111111111111,\"#46039f\"],[0.2222222222222222,\"#7201a8\"],[0.3333333333333333,\"#9c179e\"],[0.4444444444444444,\"#bd3786\"],[0.5555555555555556,\"#d8576b\"],[0.6666666666666666,\"#ed7953\"],[0.7777777777777778,\"#fb9f3a\"],[0.8888888888888888,\"#fdca26\"],[1.0,\"#f0f921\"]]}],\"mesh3d\":[{\"type\":\"mesh3d\",\"colorbar\":{\"outlinewidth\":0,\"ticks\":\"\"}}],\"scatter\":[{\"fillpattern\":{\"fillmode\":\"overlay\",\"size\":10,\"solidity\":0.2},\"type\":\"scatter\"}],\"parcoords\":[{\"type\":\"parcoords\",\"line\":{\"colorbar\":{\"outlinewidth\":0,\"ticks\":\"\"}}}],\"scatterpolargl\":[{\"type\":\"scatterpolargl\",\"marker\":{\"colorbar\":{\"outlinewidth\":0,\"ticks\":\"\"}}}],\"bar\":[{\"error_x\":{\"color\":\"#2a3f5f\"},\"error_y\":{\"color\":\"#2a3f5f\"},\"marker\":{\"line\":{\"color\":\"#E5ECF6\",\"width\":0.5},\"pattern\":{\"fillmode\":\"overlay\",\"size\":10,\"solidity\":0.2}},\"type\":\"bar\"}],\"scattergeo\":[{\"type\":\"scattergeo\",\"marker\":{\"colorbar\":{\"outlinewidth\":0,\"ticks\":\"\"}}}],\"scatterpolar\":[{\"type\":\"scatterpolar\",\"marker\":{\"colorbar\":{\"outlinewidth\":0,\"ticks\":\"\"}}}],\"histogram\":[{\"marker\":{\"pattern\":{\"fillmode\":\"overlay\",\"size\":10,\"solidity\":0.2}},\"type\":\"histogram\"}],\"scattergl\":[{\"type\":\"scattergl\",\"marker\":{\"colorbar\":{\"outlinewidth\":0,\"ticks\":\"\"}}}],\"scatter3d\":[{\"type\":\"scatter3d\",\"line\":{\"colorbar\":{\"outlinewidth\":0,\"ticks\":\"\"}},\"marker\":{\"colorbar\":{\"outlinewidth\":0,\"ticks\":\"\"}}}],\"scattermapbox\":[{\"type\":\"scattermapbox\",\"marker\":{\"colorbar\":{\"outlinewidth\":0,\"ticks\":\"\"}}}],\"scatterternary\":[{\"type\":\"scatterternary\",\"marker\":{\"colorbar\":{\"outlinewidth\":0,\"ticks\":\"\"}}}],\"scattercarpet\":[{\"type\":\"scattercarpet\",\"marker\":{\"colorbar\":{\"outlinewidth\":0,\"ticks\":\"\"}}}],\"carpet\":[{\"aaxis\":{\"endlinecolor\":\"#2a3f5f\",\"gridcolor\":\"white\",\"linecolor\":\"white\",\"minorgridcolor\":\"white\",\"startlinecolor\":\"#2a3f5f\"},\"baxis\":{\"endlinecolor\":\"#2a3f5f\",\"gridcolor\":\"white\",\"linecolor\":\"white\",\"minorgridcolor\":\"white\",\"startlinecolor\":\"#2a3f5f\"},\"type\":\"carpet\"}],\"table\":[{\"cells\":{\"fill\":{\"color\":\"#EBF0F8\"},\"line\":{\"color\":\"white\"}},\"header\":{\"fill\":{\"color\":\"#C8D4E3\"},\"line\":{\"color\":\"white\"}},\"type\":\"table\"}],\"barpolar\":[{\"marker\":{\"line\":{\"color\":\"#E5ECF6\",\"width\":0.5},\"pattern\":{\"fillmode\":\"overlay\",\"size\":10,\"solidity\":0.2}},\"type\":\"barpolar\"}],\"pie\":[{\"automargin\":true,\"type\":\"pie\"}]},\"layout\":{\"autotypenumbers\":\"strict\",\"colorway\":[\"#636efa\",\"#EF553B\",\"#00cc96\",\"#ab63fa\",\"#FFA15A\",\"#19d3f3\",\"#FF6692\",\"#B6E880\",\"#FF97FF\",\"#FECB52\"],\"font\":{\"color\":\"#2a3f5f\"},\"hovermode\":\"closest\",\"hoverlabel\":{\"align\":\"left\"},\"paper_bgcolor\":\"white\",\"plot_bgcolor\":\"#E5ECF6\",\"polar\":{\"bgcolor\":\"#E5ECF6\",\"angularaxis\":{\"gridcolor\":\"white\",\"linecolor\":\"white\",\"ticks\":\"\"},\"radialaxis\":{\"gridcolor\":\"white\",\"linecolor\":\"white\",\"ticks\":\"\"}},\"ternary\":{\"bgcolor\":\"#E5ECF6\",\"aaxis\":{\"gridcolor\":\"white\",\"linecolor\":\"white\",\"ticks\":\"\"},\"baxis\":{\"gridcolor\":\"white\",\"linecolor\":\"white\",\"ticks\":\"\"},\"caxis\":{\"gridcolor\":\"white\",\"linecolor\":\"white\",\"ticks\":\"\"}},\"coloraxis\":{\"colorbar\":{\"outlinewidth\":0,\"ticks\":\"\"}},\"colorscale\":{\"sequential\":[[0.0,\"#0d0887\"],[0.1111111111111111,\"#46039f\"],[0.2222222222222222,\"#7201a8\"],[0.3333333333333333,\"#9c179e\"],[0.4444444444444444,\"#bd3786\"],[0.5555555555555556,\"#d8576b\"],[0.6666666666666666,\"#ed7953\"],[0.7777777777777778,\"#fb9f3a\"],[0.8888888888888888,\"#fdca26\"],[1.0,\"#f0f921\"]],\"sequentialminus\":[[0.0,\"#0d0887\"],[0.1111111111111111,\"#46039f\"],[0.2222222222222222,\"#7201a8\"],[0.3333333333333333,\"#9c179e\"],[0.4444444444444444,\"#bd3786\"],[0.5555555555555556,\"#d8576b\"],[0.6666666666666666,\"#ed7953\"],[0.7777777777777778,\"#fb9f3a\"],[0.8888888888888888,\"#fdca26\"],[1.0,\"#f0f921\"]],\"diverging\":[[0,\"#8e0152\"],[0.1,\"#c51b7d\"],[0.2,\"#de77ae\"],[0.3,\"#f1b6da\"],[0.4,\"#fde0ef\"],[0.5,\"#f7f7f7\"],[0.6,\"#e6f5d0\"],[0.7,\"#b8e186\"],[0.8,\"#7fbc41\"],[0.9,\"#4d9221\"],[1,\"#276419\"]]},\"xaxis\":{\"gridcolor\":\"white\",\"linecolor\":\"white\",\"ticks\":\"\",\"title\":{\"standoff\":15},\"zerolinecolor\":\"white\",\"automargin\":true,\"zerolinewidth\":2},\"yaxis\":{\"gridcolor\":\"white\",\"linecolor\":\"white\",\"ticks\":\"\",\"title\":{\"standoff\":15},\"zerolinecolor\":\"white\",\"automargin\":true,\"zerolinewidth\":2},\"scene\":{\"xaxis\":{\"backgroundcolor\":\"#E5ECF6\",\"gridcolor\":\"white\",\"linecolor\":\"white\",\"showbackground\":true,\"ticks\":\"\",\"zerolinecolor\":\"white\",\"gridwidth\":2},\"yaxis\":{\"backgroundcolor\":\"#E5ECF6\",\"gridcolor\":\"white\",\"linecolor\":\"white\",\"showbackground\":true,\"ticks\":\"\",\"zerolinecolor\":\"white\",\"gridwidth\":2},\"zaxis\":{\"backgroundcolor\":\"#E5ECF6\",\"gridcolor\":\"white\",\"linecolor\":\"white\",\"showbackground\":true,\"ticks\":\"\",\"zerolinecolor\":\"white\",\"gridwidth\":2}},\"shapedefaults\":{\"line\":{\"color\":\"#2a3f5f\"}},\"annotationdefaults\":{\"arrowcolor\":\"#2a3f5f\",\"arrowhead\":0,\"arrowwidth\":1},\"geo\":{\"bgcolor\":\"white\",\"landcolor\":\"#E5ECF6\",\"subunitcolor\":\"white\",\"showland\":true,\"showlakes\":true,\"lakecolor\":\"white\"},\"title\":{\"x\":0.05},\"mapbox\":{\"style\":\"light\"}}},\"xaxis\":{\"anchor\":\"y\",\"domain\":[0.0,1.0],\"title\":{\"text\":\"x\"}},\"yaxis\":{\"anchor\":\"x\",\"domain\":[0.0,1.0],\"title\":{\"text\":\"y\"}},\"legend\":{\"tracegroupgap\":0},\"margin\":{\"t\":60},\"barmode\":\"relative\",\"height\":300},                        {\"responsive\": true}                    ).then(function(){\n",
       "                            \n",
       "var gd = document.getElementById('81e7dc93-da39-4147-9d2c-ea58e0d62263');\n",
       "var x = new MutationObserver(function (mutations, observer) {{\n",
       "        var display = window.getComputedStyle(gd).display;\n",
       "        if (!display || display === 'none') {{\n",
       "            console.log([gd, 'removed!']);\n",
       "            Plotly.purge(gd);\n",
       "            observer.disconnect();\n",
       "        }}\n",
       "}});\n",
       "\n",
       "// Listen for the removal of the full notebook cells\n",
       "var notebookContainer = gd.closest('#notebook-container');\n",
       "if (notebookContainer) {{\n",
       "    x.observe(notebookContainer, {childList: true});\n",
       "}}\n",
       "\n",
       "// Listen for the clearing of the current output cell\n",
       "var outputEl = gd.closest('.output');\n",
       "if (outputEl) {{\n",
       "    x.observe(outputEl, {childList: true});\n",
       "}}\n",
       "\n",
       "                        })                };                });            </script>        </div>"
      ]
     },
     "metadata": {},
     "output_type": "display_data"
    }
   ],
   "source": [
    "#data_canada = px.data.gapminder().query(\"country == 'Canada'\")\n",
    "layout = go.Layout(\n",
    "    title='some title',\n",
    "    xaxis=dict(\n",
    "        title='Xaxis Name',\n",
    "        tickmode='linear')\n",
    ")\n",
    "fig = px.bar(x=avDays.index, y=avDays.values, height=300)\n",
    "fig.show()"
   ]
  },
  {
   "cell_type": "code",
   "execution_count": null,
   "id": "a7e8a650",
   "metadata": {},
   "outputs": [],
   "source": [
    "portfolio.calculate_PortPerformance(maxSR[1][1], T=252)"
   ]
  },
  {
   "cell_type": "code",
   "execution_count": null,
   "id": "4b4010f9",
   "metadata": {},
   "outputs": [],
   "source": []
  },
  {
   "cell_type": "code",
   "execution_count": 24,
   "id": "b964efb9",
   "metadata": {},
   "outputs": [
    {
     "data": {
      "text/html": [
       "<div>\n",
       "<style scoped>\n",
       "    .dataframe tbody tr th:only-of-type {\n",
       "        vertical-align: middle;\n",
       "    }\n",
       "\n",
       "    .dataframe tbody tr th {\n",
       "        vertical-align: top;\n",
       "    }\n",
       "\n",
       "    .dataframe thead th {\n",
       "        text-align: right;\n",
       "    }\n",
       "</style>\n",
       "<table border=\"1\" class=\"dataframe\">\n",
       "  <thead>\n",
       "    <tr style=\"text-align: right;\">\n",
       "      <th></th>\n",
       "      <th>ABF.L</th>\n",
       "      <th>ADM</th>\n",
       "      <th>ANTO.L</th>\n",
       "      <th>AON</th>\n",
       "      <th>AV.L</th>\n",
       "      <th>AVV.L</th>\n",
       "      <th>AZN</th>\n",
       "      <th>BA.L</th>\n",
       "      <th>BARC.L</th>\n",
       "      <th>BATS.L</th>\n",
       "      <th>...</th>\n",
       "      <th>STAN.L</th>\n",
       "      <th>STJ.L</th>\n",
       "      <th>SVT</th>\n",
       "      <th>TSCO</th>\n",
       "      <th>TW.L</th>\n",
       "      <th>ULVR.L</th>\n",
       "      <th>UU.L</th>\n",
       "      <th>VOD</th>\n",
       "      <th>WPP</th>\n",
       "      <th>WTB.L</th>\n",
       "    </tr>\n",
       "    <tr>\n",
       "      <th>Date</th>\n",
       "      <th></th>\n",
       "      <th></th>\n",
       "      <th></th>\n",
       "      <th></th>\n",
       "      <th></th>\n",
       "      <th></th>\n",
       "      <th></th>\n",
       "      <th></th>\n",
       "      <th></th>\n",
       "      <th></th>\n",
       "      <th></th>\n",
       "      <th></th>\n",
       "      <th></th>\n",
       "      <th></th>\n",
       "      <th></th>\n",
       "      <th></th>\n",
       "      <th></th>\n",
       "      <th></th>\n",
       "      <th></th>\n",
       "      <th></th>\n",
       "      <th></th>\n",
       "    </tr>\n",
       "  </thead>\n",
       "  <tbody>\n",
       "    <tr>\n",
       "      <th>2002-01-03</th>\n",
       "      <td>0.016277</td>\n",
       "      <td>-0.010642</td>\n",
       "      <td>-0.004764</td>\n",
       "      <td>0.001970</td>\n",
       "      <td>0.007067</td>\n",
       "      <td>0.000000</td>\n",
       "      <td>-0.001747</td>\n",
       "      <td>0.003180</td>\n",
       "      <td>0.010103</td>\n",
       "      <td>-0.007776</td>\n",
       "      <td>...</td>\n",
       "      <td>0.016647</td>\n",
       "      <td>0.010094</td>\n",
       "      <td>0.000000</td>\n",
       "      <td>0.042462</td>\n",
       "      <td>-0.010007</td>\n",
       "      <td>-0.007067</td>\n",
       "      <td>0.016532</td>\n",
       "      <td>0.028889</td>\n",
       "      <td>0.006810</td>\n",
       "      <td>0.000000</td>\n",
       "    </tr>\n",
       "    <tr>\n",
       "      <th>2002-01-04</th>\n",
       "      <td>0.003023</td>\n",
       "      <td>-0.037795</td>\n",
       "      <td>0.002861</td>\n",
       "      <td>-0.000281</td>\n",
       "      <td>-0.009434</td>\n",
       "      <td>0.016845</td>\n",
       "      <td>-0.014753</td>\n",
       "      <td>0.013558</td>\n",
       "      <td>0.006100</td>\n",
       "      <td>-0.022808</td>\n",
       "      <td>...</td>\n",
       "      <td>0.005879</td>\n",
       "      <td>0.008571</td>\n",
       "      <td>0.000000</td>\n",
       "      <td>0.024967</td>\n",
       "      <td>0.042200</td>\n",
       "      <td>-0.010696</td>\n",
       "      <td>0.000000</td>\n",
       "      <td>-0.002626</td>\n",
       "      <td>0.049733</td>\n",
       "      <td>0.044851</td>\n",
       "    </tr>\n",
       "    <tr>\n",
       "      <th>2002-01-07</th>\n",
       "      <td>-0.005043</td>\n",
       "      <td>-0.005199</td>\n",
       "      <td>0.011364</td>\n",
       "      <td>-0.011597</td>\n",
       "      <td>-0.007134</td>\n",
       "      <td>0.022027</td>\n",
       "      <td>-0.007347</td>\n",
       "      <td>0.000000</td>\n",
       "      <td>-0.012238</td>\n",
       "      <td>0.000887</td>\n",
       "      <td>...</td>\n",
       "      <td>0.001172</td>\n",
       "      <td>0.009908</td>\n",
       "      <td>0.000000</td>\n",
       "      <td>-0.005770</td>\n",
       "      <td>0.002751</td>\n",
       "      <td>-0.009001</td>\n",
       "      <td>0.004090</td>\n",
       "      <td>-0.031288</td>\n",
       "      <td>0.004528</td>\n",
       "      <td>0.004376</td>\n",
       "    </tr>\n",
       "    <tr>\n",
       "      <th>2002-01-08</th>\n",
       "      <td>0.001011</td>\n",
       "      <td>0.022092</td>\n",
       "      <td>0.002821</td>\n",
       "      <td>-0.008572</td>\n",
       "      <td>-0.010195</td>\n",
       "      <td>-0.030976</td>\n",
       "      <td>-0.011462</td>\n",
       "      <td>0.008421</td>\n",
       "      <td>-0.004408</td>\n",
       "      <td>-0.002663</td>\n",
       "      <td>...</td>\n",
       "      <td>-0.004695</td>\n",
       "      <td>-0.028573</td>\n",
       "      <td>0.043059</td>\n",
       "      <td>0.019376</td>\n",
       "      <td>-0.033523</td>\n",
       "      <td>-0.006349</td>\n",
       "      <td>0.000000</td>\n",
       "      <td>-0.013659</td>\n",
       "      <td>-0.023556</td>\n",
       "      <td>-0.009654</td>\n",
       "    </tr>\n",
       "    <tr>\n",
       "      <th>2002-01-09</th>\n",
       "      <td>-0.010153</td>\n",
       "      <td>0.002909</td>\n",
       "      <td>0.006551</td>\n",
       "      <td>0.002293</td>\n",
       "      <td>-0.017635</td>\n",
       "      <td>-0.022728</td>\n",
       "      <td>0.013248</td>\n",
       "      <td>0.012346</td>\n",
       "      <td>0.011419</td>\n",
       "      <td>0.009730</td>\n",
       "      <td>...</td>\n",
       "      <td>-0.001177</td>\n",
       "      <td>-0.007273</td>\n",
       "      <td>0.000000</td>\n",
       "      <td>-0.011143</td>\n",
       "      <td>0.011300</td>\n",
       "      <td>0.006349</td>\n",
       "      <td>-0.017294</td>\n",
       "      <td>-0.069133</td>\n",
       "      <td>-0.029239</td>\n",
       "      <td>0.018349</td>\n",
       "    </tr>\n",
       "    <tr>\n",
       "      <th>...</th>\n",
       "      <td>...</td>\n",
       "      <td>...</td>\n",
       "      <td>...</td>\n",
       "      <td>...</td>\n",
       "      <td>...</td>\n",
       "      <td>...</td>\n",
       "      <td>...</td>\n",
       "      <td>...</td>\n",
       "      <td>...</td>\n",
       "      <td>...</td>\n",
       "      <td>...</td>\n",
       "      <td>...</td>\n",
       "      <td>...</td>\n",
       "      <td>...</td>\n",
       "      <td>...</td>\n",
       "      <td>...</td>\n",
       "      <td>...</td>\n",
       "      <td>...</td>\n",
       "      <td>...</td>\n",
       "      <td>...</td>\n",
       "      <td>...</td>\n",
       "    </tr>\n",
       "    <tr>\n",
       "      <th>2022-12-21</th>\n",
       "      <td>0.021161</td>\n",
       "      <td>0.014209</td>\n",
       "      <td>0.026642</td>\n",
       "      <td>0.017376</td>\n",
       "      <td>0.019100</td>\n",
       "      <td>0.001557</td>\n",
       "      <td>0.002654</td>\n",
       "      <td>0.010750</td>\n",
       "      <td>0.014913</td>\n",
       "      <td>0.011698</td>\n",
       "      <td>...</td>\n",
       "      <td>0.007378</td>\n",
       "      <td>0.032549</td>\n",
       "      <td>-0.023311</td>\n",
       "      <td>0.019084</td>\n",
       "      <td>0.030936</td>\n",
       "      <td>0.016346</td>\n",
       "      <td>0.007890</td>\n",
       "      <td>0.005923</td>\n",
       "      <td>0.022619</td>\n",
       "      <td>0.017068</td>\n",
       "    </tr>\n",
       "    <tr>\n",
       "      <th>2022-12-22</th>\n",
       "      <td>-0.004770</td>\n",
       "      <td>-0.008308</td>\n",
       "      <td>-0.014858</td>\n",
       "      <td>-0.009549</td>\n",
       "      <td>-0.007372</td>\n",
       "      <td>-0.000934</td>\n",
       "      <td>0.002648</td>\n",
       "      <td>0.001394</td>\n",
       "      <td>-0.005964</td>\n",
       "      <td>0.006180</td>\n",
       "      <td>...</td>\n",
       "      <td>-0.001279</td>\n",
       "      <td>-0.019586</td>\n",
       "      <td>0.000000</td>\n",
       "      <td>-0.005617</td>\n",
       "      <td>-0.004389</td>\n",
       "      <td>-0.002844</td>\n",
       "      <td>-0.012674</td>\n",
       "      <td>-0.007905</td>\n",
       "      <td>-0.007686</td>\n",
       "      <td>-0.010206</td>\n",
       "    </tr>\n",
       "    <tr>\n",
       "      <th>2022-12-23</th>\n",
       "      <td>0.011726</td>\n",
       "      <td>0.012014</td>\n",
       "      <td>0.004869</td>\n",
       "      <td>0.001465</td>\n",
       "      <td>-0.004494</td>\n",
       "      <td>0.003110</td>\n",
       "      <td>-0.001470</td>\n",
       "      <td>-0.007690</td>\n",
       "      <td>0.003811</td>\n",
       "      <td>-0.000904</td>\n",
       "      <td>...</td>\n",
       "      <td>0.000000</td>\n",
       "      <td>0.003673</td>\n",
       "      <td>0.064833</td>\n",
       "      <td>0.018647</td>\n",
       "      <td>0.008275</td>\n",
       "      <td>0.000237</td>\n",
       "      <td>-0.003440</td>\n",
       "      <td>0.003960</td>\n",
       "      <td>0.007686</td>\n",
       "      <td>-0.003044</td>\n",
       "    </tr>\n",
       "    <tr>\n",
       "      <th>2022-12-29</th>\n",
       "      <td>0.002515</td>\n",
       "      <td>-0.005355</td>\n",
       "      <td>-0.021664</td>\n",
       "      <td>0.012838</td>\n",
       "      <td>-0.002013</td>\n",
       "      <td>0.000933</td>\n",
       "      <td>0.007961</td>\n",
       "      <td>-0.005784</td>\n",
       "      <td>0.002891</td>\n",
       "      <td>-0.008438</td>\n",
       "      <td>...</td>\n",
       "      <td>0.000953</td>\n",
       "      <td>0.013137</td>\n",
       "      <td>0.000000</td>\n",
       "      <td>0.031689</td>\n",
       "      <td>-0.004326</td>\n",
       "      <td>-0.000833</td>\n",
       "      <td>0.010582</td>\n",
       "      <td>0.014800</td>\n",
       "      <td>0.021961</td>\n",
       "      <td>-0.005354</td>\n",
       "    </tr>\n",
       "    <tr>\n",
       "      <th>2022-12-30</th>\n",
       "      <td>-0.010415</td>\n",
       "      <td>-0.002904</td>\n",
       "      <td>-0.004519</td>\n",
       "      <td>-0.010737</td>\n",
       "      <td>-0.008769</td>\n",
       "      <td>-0.001555</td>\n",
       "      <td>-0.004415</td>\n",
       "      <td>-0.006985</td>\n",
       "      <td>-0.005159</td>\n",
       "      <td>-0.006985</td>\n",
       "      <td>...</td>\n",
       "      <td>-0.011819</td>\n",
       "      <td>-0.014506</td>\n",
       "      <td>-0.049872</td>\n",
       "      <td>-0.008895</td>\n",
       "      <td>-0.020930</td>\n",
       "      <td>-0.004771</td>\n",
       "      <td>-0.015613</td>\n",
       "      <td>-0.008854</td>\n",
       "      <td>-0.011327</td>\n",
       "      <td>-0.014678</td>\n",
       "    </tr>\n",
       "  </tbody>\n",
       "</table>\n",
       "<p>4976 rows × 68 columns</p>\n",
       "</div>"
      ],
      "text/plain": [
       "               ABF.L       ADM    ANTO.L       AON      AV.L     AVV.L  \\\n",
       "Date                                                                     \n",
       "2002-01-03  0.016277 -0.010642 -0.004764  0.001970  0.007067  0.000000   \n",
       "2002-01-04  0.003023 -0.037795  0.002861 -0.000281 -0.009434  0.016845   \n",
       "2002-01-07 -0.005043 -0.005199  0.011364 -0.011597 -0.007134  0.022027   \n",
       "2002-01-08  0.001011  0.022092  0.002821 -0.008572 -0.010195 -0.030976   \n",
       "2002-01-09 -0.010153  0.002909  0.006551  0.002293 -0.017635 -0.022728   \n",
       "...              ...       ...       ...       ...       ...       ...   \n",
       "2022-12-21  0.021161  0.014209  0.026642  0.017376  0.019100  0.001557   \n",
       "2022-12-22 -0.004770 -0.008308 -0.014858 -0.009549 -0.007372 -0.000934   \n",
       "2022-12-23  0.011726  0.012014  0.004869  0.001465 -0.004494  0.003110   \n",
       "2022-12-29  0.002515 -0.005355 -0.021664  0.012838 -0.002013  0.000933   \n",
       "2022-12-30 -0.010415 -0.002904 -0.004519 -0.010737 -0.008769 -0.001555   \n",
       "\n",
       "                 AZN      BA.L    BARC.L    BATS.L  ...    STAN.L     STJ.L  \\\n",
       "Date                                                ...                       \n",
       "2002-01-03 -0.001747  0.003180  0.010103 -0.007776  ...  0.016647  0.010094   \n",
       "2002-01-04 -0.014753  0.013558  0.006100 -0.022808  ...  0.005879  0.008571   \n",
       "2002-01-07 -0.007347  0.000000 -0.012238  0.000887  ...  0.001172  0.009908   \n",
       "2002-01-08 -0.011462  0.008421 -0.004408 -0.002663  ... -0.004695 -0.028573   \n",
       "2002-01-09  0.013248  0.012346  0.011419  0.009730  ... -0.001177 -0.007273   \n",
       "...              ...       ...       ...       ...  ...       ...       ...   \n",
       "2022-12-21  0.002654  0.010750  0.014913  0.011698  ...  0.007378  0.032549   \n",
       "2022-12-22  0.002648  0.001394 -0.005964  0.006180  ... -0.001279 -0.019586   \n",
       "2022-12-23 -0.001470 -0.007690  0.003811 -0.000904  ...  0.000000  0.003673   \n",
       "2022-12-29  0.007961 -0.005784  0.002891 -0.008438  ...  0.000953  0.013137   \n",
       "2022-12-30 -0.004415 -0.006985 -0.005159 -0.006985  ... -0.011819 -0.014506   \n",
       "\n",
       "                 SVT      TSCO      TW.L    ULVR.L      UU.L       VOD  \\\n",
       "Date                                                                     \n",
       "2002-01-03  0.000000  0.042462 -0.010007 -0.007067  0.016532  0.028889   \n",
       "2002-01-04  0.000000  0.024967  0.042200 -0.010696  0.000000 -0.002626   \n",
       "2002-01-07  0.000000 -0.005770  0.002751 -0.009001  0.004090 -0.031288   \n",
       "2002-01-08  0.043059  0.019376 -0.033523 -0.006349  0.000000 -0.013659   \n",
       "2002-01-09  0.000000 -0.011143  0.011300  0.006349 -0.017294 -0.069133   \n",
       "...              ...       ...       ...       ...       ...       ...   \n",
       "2022-12-21 -0.023311  0.019084  0.030936  0.016346  0.007890  0.005923   \n",
       "2022-12-22  0.000000 -0.005617 -0.004389 -0.002844 -0.012674 -0.007905   \n",
       "2022-12-23  0.064833  0.018647  0.008275  0.000237 -0.003440  0.003960   \n",
       "2022-12-29  0.000000  0.031689 -0.004326 -0.000833  0.010582  0.014800   \n",
       "2022-12-30 -0.049872 -0.008895 -0.020930 -0.004771 -0.015613 -0.008854   \n",
       "\n",
       "                 WPP     WTB.L  \n",
       "Date                            \n",
       "2002-01-03  0.006810  0.000000  \n",
       "2002-01-04  0.049733  0.044851  \n",
       "2002-01-07  0.004528  0.004376  \n",
       "2002-01-08 -0.023556 -0.009654  \n",
       "2002-01-09 -0.029239  0.018349  \n",
       "...              ...       ...  \n",
       "2022-12-21  0.022619  0.017068  \n",
       "2022-12-22 -0.007686 -0.010206  \n",
       "2022-12-23  0.007686 -0.003044  \n",
       "2022-12-29  0.021961 -0.005354  \n",
       "2022-12-30 -0.011327 -0.014678  \n",
       "\n",
       "[4976 rows x 68 columns]"
      ]
     },
     "execution_count": 24,
     "metadata": {},
     "output_type": "execute_result"
    }
   ],
   "source": [
    "portfolio.logReturns"
   ]
  },
  {
   "cell_type": "code",
   "execution_count": null,
   "id": "e2acf91a",
   "metadata": {},
   "outputs": [],
   "source": []
  },
  {
   "cell_type": "code",
   "execution_count": 22,
   "id": "cb2036dd",
   "metadata": {},
   "outputs": [
    {
     "ename": "AttributeError",
     "evalue": "'Portfolio' object has no attribute 'portReturns'",
     "output_type": "error",
     "traceback": [
      "\u001b[1;31m---------------------------------------------------------------------------\u001b[0m",
      "\u001b[1;31mAttributeError\u001b[0m                            Traceback (most recent call last)",
      "\u001b[1;32m~\\AppData\\Local\\Temp\\ipykernel_24012\\3106253650.py\u001b[0m in \u001b[0;36m<module>\u001b[1;34m\u001b[0m\n\u001b[0;32m      1\u001b[0m \u001b[1;31m# Years in the series\u001b[0m\u001b[1;33m\u001b[0m\u001b[1;33m\u001b[0m\u001b[0m\n\u001b[1;32m----> 2\u001b[1;33m \u001b[0mnum_years\u001b[0m \u001b[1;33m=\u001b[0m \u001b[0mlen\u001b[0m\u001b[1;33m(\u001b[0m\u001b[0mportfolio\u001b[0m\u001b[1;33m.\u001b[0m\u001b[0mportReturns\u001b[0m\u001b[1;33m.\u001b[0m\u001b[0mgroupby\u001b[0m\u001b[1;33m(\u001b[0m\u001b[0mportfolio\u001b[0m\u001b[1;33m.\u001b[0m\u001b[0mportReturns\u001b[0m\u001b[1;33m.\u001b[0m\u001b[0mindex\u001b[0m\u001b[1;33m.\u001b[0m\u001b[0myear\u001b[0m\u001b[1;33m)\u001b[0m\u001b[1;33m)\u001b[0m\u001b[1;33m,\u001b[0m\u001b[1;33m\u001b[0m\u001b[1;33m\u001b[0m\u001b[0m\n\u001b[0m\u001b[0;32m      3\u001b[0m \u001b[1;31m# average days in a year\u001b[0m\u001b[1;33m\u001b[0m\u001b[1;33m\u001b[0m\u001b[0m\n\u001b[0;32m      4\u001b[0m \u001b[0mnum_days\u001b[0m \u001b[1;33m=\u001b[0m \u001b[0mint\u001b[0m\u001b[1;33m(\u001b[0m\u001b[0mlen\u001b[0m\u001b[1;33m(\u001b[0m\u001b[0mportfolio\u001b[0m\u001b[1;33m.\u001b[0m\u001b[0mportReturns\u001b[0m\u001b[1;33m)\u001b[0m\u001b[1;33m/\u001b[0m\u001b[0mlen\u001b[0m\u001b[1;33m(\u001b[0m\u001b[0mportfolio\u001b[0m\u001b[1;33m.\u001b[0m\u001b[0mportReturns\u001b[0m\u001b[1;33m.\u001b[0m\u001b[0mgroupby\u001b[0m\u001b[1;33m(\u001b[0m\u001b[0mportfolio\u001b[0m\u001b[1;33m.\u001b[0m\u001b[0mportReturns\u001b[0m\u001b[1;33m.\u001b[0m\u001b[0mindex\u001b[0m\u001b[1;33m.\u001b[0m\u001b[0myear\u001b[0m\u001b[1;33m)\u001b[0m\u001b[1;33m)\u001b[0m\u001b[1;33m)\u001b[0m\u001b[1;33m\u001b[0m\u001b[1;33m\u001b[0m\u001b[0m\n\u001b[0;32m      5\u001b[0m \u001b[0mnum_years\u001b[0m\u001b[1;33m,\u001b[0m \u001b[0mnum_days\u001b[0m\u001b[1;33m\u001b[0m\u001b[1;33m\u001b[0m\u001b[0m\n",
      "\u001b[1;31mAttributeError\u001b[0m: 'Portfolio' object has no attribute 'portReturns'"
     ]
    }
   ],
   "source": [
    "# Years in the series\n",
    "num_years = len(portfolio.portReturns.groupby(portfolio.portReturns.index.year)),\n",
    "# average days in a year\n",
    "num_days = int(len(portfolio.portReturns)/len(portfolio.portReturns.groupby(portfolio.portReturns.index.year)))\n",
    "num_years, num_days"
   ]
  },
  {
   "cell_type": "code",
   "execution_count": null,
   "id": "c390fb25",
   "metadata": {},
   "outputs": [],
   "source": []
  }
 ],
 "metadata": {
  "kernelspec": {
   "display_name": "Python 3 (ipykernel)",
   "language": "python",
   "name": "python3"
  },
  "language_info": {
   "codemirror_mode": {
    "name": "ipython",
    "version": 3
   },
   "file_extension": ".py",
   "mimetype": "text/x-python",
   "name": "python",
   "nbconvert_exporter": "python",
   "pygments_lexer": "ipython3",
   "version": "3.9.13"
  }
 },
 "nbformat": 4,
 "nbformat_minor": 5
}
